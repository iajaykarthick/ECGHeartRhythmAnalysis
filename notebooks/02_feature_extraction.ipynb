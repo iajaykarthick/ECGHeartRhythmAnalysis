{
 "cells": [
  {
   "cell_type": "code",
   "execution_count": 1,
   "metadata": {},
   "outputs": [],
   "source": [
    "%load_ext autoreload\n",
    "%autoreload 2"
   ]
  },
  {
   "cell_type": "markdown",
   "metadata": {},
   "source": [
    "# Feature Extraction in ECG Data\n",
    "\n",
    "Feature extraction is a critical step in analyzing ECG data, especially for tasks like Atrial Fibrillation (AF) classification. The ECG signal is rich with information, but this information needs to be extracted into a format that can be used for machine learning models. \n",
    "\n",
    "## Key Features for AF Classification\n",
    "\n",
    "### R-R Interval Features\n",
    "R-R intervals, the periods between consecutive R-peaks in the ECG signal, are fundamental in assessing heart rhythm. Key features extracted from R-R intervals include:\n",
    "- **RR_mean**: The average time between R-peaks, providing a basic measure of heart rate.\n",
    "- **RR_std**: The standard deviation of R-R intervals, indicating the variability in heart rate, which is significant in AF detection.\n",
    "- **Irregularity_index**: A measure of rhythm irregularity, calculated as the proportion of significant changes in successive R-R intervals (e.g., greater than 50ms). This index is particularly relevant for AF, where irregular heartbeats are a primary symptom.\n",
    "\n",
    "### Frequency Domain Features\n",
    "These features are derived from the power spectral density of the ECG signal and include:\n",
    "- **LF (Low Frequency Power)**: Represents a mix of sympathetic and parasympathetic nervous system activity.\n",
    "- **HF (High Frequency Power)**: More closely related to parasympathetic activity.\n",
    "- **LF/HF Ratio**: Provides insights into the autonomic balance or stress levels, which can be altered in AF.\n",
    "\n",
    "### Statistical Features\n",
    "Simple statistical measures of the ECG signal can also provide valuable information:\n",
    "- **Skewness**: Indicates the asymmetry of the ECG signal distribution. An abnormal skewness could suggest alterations in the ECG waveform.\n",
    "- **Kurtosis**: Measures the 'tailedness' of the signal distribution. Extreme values might indicate anomalies in the ECG waveform.\n",
    "\n",
    "## Exclusion of HRV Features in AF Classification\n",
    "\n",
    "HRV measures the variation in time intervals between heartbeats and is critical for cardiac health analysis. But in the context of the project \"AF Classification from a Short Single Lead ECG Recording,\" the decision to exclude Heart Rate Variability (HRV) features is based on several considerations:\n",
    "\n",
    "1. **Short Recording Duration**: HRV analysis typically requires longer ECG recordings to provide meaningful insights. Since our project deals with short-duration ECG signals, the utility of HRV features is likely to be limited.\n",
    "\n",
    "2. **Single Lead ECG Limitation**: HRV features are generally extracted from multi-lead ECG recordings to gain a comprehensive understanding of the heart's electrical activity. The single lead ECG used in our project offers less scope for diverse HRV analysis.\n",
    "\n",
    "3. **Specific Focus on Atrial Fibrillation (AF)**: While HRV is valuable for assessing overall cardiac function and autonomic nervous system activity, its direct relevance to detecting AF in short-duration ECGs is not as strong compared to other features like R-R interval irregularity, frequency domain characteristics, and simple statistical measures of the ECG signal.\n",
    "\n",
    "4. **Simplifying the Model**: By focusing on a select set of features that are more directly related to AF detection, we aim to develop a model that is both efficient and effective. Incorporating HRV might introduce complexity without significantly improving the model's performance for this specific application.\n",
    "\n",
    "In summary, the exclusion of HRV features is a strategic choice tailored to the specific requirements and constraints of the project. This approach aims to optimize the model's performance in detecting AF from short, single lead ECG recordings."
   ]
  },
  {
   "cell_type": "code",
   "execution_count": 8,
   "metadata": {},
   "outputs": [],
   "source": [
    "import neurokit2 as nk\n",
    "import numpy as np\n",
    "import pandas as pd\n",
    "import matplotlib.pyplot as plt\n",
    "\n",
    "from tqdm import tqdm\n",
    "\n",
    "import warnings\n",
    "warnings.filterwarnings('ignore')"
   ]
  },
  {
   "cell_type": "code",
   "execution_count": 3,
   "metadata": {},
   "outputs": [
    {
     "name": "stderr",
     "output_type": "stream",
     "text": [
      "100%|██████████| 8528/8528 [00:00<00:00, 490450.21it/s]\n"
     ]
    }
   ],
   "source": [
    "from src.data.load_data import load_dataset, load_ecg, parse_header\n",
    "from src.ecg.viz import plot_ecg\n",
    "from src.config import TRAINING_DIR\n",
    "\n",
    "dataset = load_dataset(TRAINING_DIR)"
   ]
  },
  {
   "cell_type": "code",
   "execution_count": 4,
   "metadata": {},
   "outputs": [
    {
     "name": "stderr",
     "output_type": "stream",
     "text": [
      "Preprocessing ECG signals:   0%|          | 0/8528 [00:00<?, ?it/s]"
     ]
    },
    {
     "name": "stderr",
     "output_type": "stream",
     "text": [
      "Preprocessing ECG signals: 100%|██████████| 8528/8528 [00:11<00:00, 755.59it/s]\n"
     ]
    }
   ],
   "source": [
    "from src.preprocessing.ecg_preprocessing import ECGPreprocessor\n",
    "\n",
    "ecg_preprocessor = ECGPreprocessor(window_size=5000, overlap_size=1000)\n",
    "processed_dataset = ecg_preprocessor.transform(dataset)                                                                                                                                 "
   ]
  },
  {
   "cell_type": "code",
   "execution_count": 5,
   "metadata": {},
   "outputs": [],
   "source": [
    "import numpy as np\n",
    "import scipy.signal as sig\n",
    "from scipy import stats\n",
    "\n",
    "def extract_features(ecg_signal, fs):\n",
    "    # ECG processing to find R-peaks and segment the signal\n",
    "    _, info = nk.ecg_process(ecg_signal, sampling_rate=fs)\n",
    "    \n",
    "    # R-R Interval features\n",
    "    rri = np.diff(info['ECG_R_Peaks']) / fs * 1000 # convert to ms\n",
    "    rr_features = {\n",
    "        'RR_mean': np.mean(rri),\n",
    "        'RR_std': np.std(rri),\n",
    "        'Irregularity_index': np.sum(np.abs(np.diff(rri)) > 50) / len(rri)\n",
    "    }\n",
    "    \n",
    "    # Frequency Domain Features\n",
    "    f, Pxx = sig.welch(ecg_signal, fs=fs)\n",
    "    lf = np.trapz(Pxx[(f >= 0.04) & (f <= 0.15)])  # Low frequency power\n",
    "    hf = np.trapz(Pxx[(f >= 0.15) & (f <= 0.4)])   # High frequency power\n",
    "    freq_features = {\n",
    "        'LF': lf,\n",
    "        'HF': hf,\n",
    "        'LF_HF_ratio': lf / hf if hf > 1e-10 else np.nan\n",
    "    }\n",
    "\n",
    "    # Statistical Features\n",
    "    stat_features = {\n",
    "        'Skewness': stats.skew(ecg_signal),\n",
    "        'Kurtosis': stats.kurtosis(ecg_signal)\n",
    "    }\n",
    "\n",
    "    # Combine all features\n",
    "    features = {**rr_features, **freq_features, **stat_features}\n",
    "    \n",
    "    return features"
   ]
  },
  {
   "cell_type": "code",
   "execution_count": 9,
   "metadata": {},
   "outputs": [
    {
     "name": "stderr",
     "output_type": "stream",
     "text": [
      "Extracting features:   0%|          | 0/17613 [00:00<?, ?it/s]"
     ]
    },
    {
     "name": "stderr",
     "output_type": "stream",
     "text": [
      "Extracting features: 100%|██████████| 17613/17613 [22:47<00:00, 12.88it/s]\n"
     ]
    }
   ],
   "source": [
    "features = []\n",
    "\n",
    "for data_dict in tqdm(processed_dataset, desc='Extracting features', total=len(processed_dataset)):\n",
    "    ecg_signal = data_dict['ecg_signal']\n",
    "    patient_id = data_dict['patient_id']\n",
    "    label = data_dict['label']\n",
    "    \n",
    "    header = parse_header(data_dict['hea_file'])\n",
    "    sampling_rate = header['sample_rate']\n",
    "    \n",
    "    try:\n",
    "        feature_dict = extract_features(ecg_signal, sampling_rate)\n",
    "        features.append(feature_dict)\n",
    "    except ValueError as e:\n",
    "        if str(e) == \"NeuroKit error: the window cannot contain more data points than the time series. Decrease 'scale'.\":\n",
    "            continue\n",
    "        if str(e) == \"cannot convert float NaN to integer\":\n",
    "            continue\n",
    "        else:\n",
    "            plt.plot(ecg_signal)\n",
    "            plt.title(f'Patient {patient_id} ECG {label}')\n",
    "            plt.show()\n",
    "            raise\n",
    "    except ZeroDivisionError as e:\n",
    "        continue\n",
    "    except Exception as e:\n",
    "        plt.plot(ecg_signal)\n",
    "        plt.title(f'Patient {patient_id} ECG {label}')\n",
    "        plt.show()\n",
    "        raise"
   ]
  },
  {
   "cell_type": "code",
   "execution_count": null,
   "metadata": {},
   "outputs": [],
   "source": []
  }
 ],
 "metadata": {
  "kernelspec": {
   "display_name": "ecg_proj_env",
   "language": "python",
   "name": "python3"
  },
  "language_info": {
   "codemirror_mode": {
    "name": "ipython",
    "version": 3
   },
   "file_extension": ".py",
   "mimetype": "text/x-python",
   "name": "python",
   "nbconvert_exporter": "python",
   "pygments_lexer": "ipython3",
   "version": "3.9.13"
  }
 },
 "nbformat": 4,
 "nbformat_minor": 2
}
