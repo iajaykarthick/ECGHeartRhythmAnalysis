{
 "cells": [
  {
   "cell_type": "code",
   "execution_count": 17,
   "metadata": {},
   "outputs": [
    {
     "name": "stdout",
     "output_type": "stream",
     "text": [
      "The autoreload extension is already loaded. To reload it, use:\n",
      "  %reload_ext autoreload\n"
     ]
    }
   ],
   "source": [
    "%load_ext autoreload\n",
    "%autoreload 2"
   ]
  },
  {
   "cell_type": "markdown",
   "metadata": {},
   "source": [
    "# Feature Extraction in ECG Data\n",
    "\n",
    "Feature extraction is a critical step in analyzing ECG data, especially for tasks like Atrial Fibrillation (AF) classification. The ECG signal is rich with information, but this information needs to be extracted into a format that can be used for machine learning models. \n",
    "\n",
    "## Key Features for AF Classification\n",
    "\n",
    "### R-R Interval Features\n",
    "R-R intervals, the periods between consecutive R-peaks in the ECG signal, are fundamental in assessing heart rhythm. Key features extracted from R-R intervals include:\n",
    "- **RR_mean**: The average time between R-peaks, providing a basic measure of heart rate.\n",
    "- **RR_std**: The standard deviation of R-R intervals, indicating the variability in heart rate, which is significant in AF detection.\n",
    "- **Irregularity_index**: A measure of rhythm irregularity, calculated as the proportion of significant changes in successive R-R intervals (e.g., greater than 50ms). This index is particularly relevant for AF, where irregular heartbeats are a primary symptom.\n",
    "\n",
    "### Frequency Domain Features\n",
    "These features are derived from the power spectral density of the ECG signal and include:\n",
    "- **LF (Low Frequency Power)**: Represents a mix of sympathetic and parasympathetic nervous system activity.\n",
    "- **HF (High Frequency Power)**: More closely related to parasympathetic activity.\n",
    "- **LF/HF Ratio**: Provides insights into the autonomic balance or stress levels, which can be altered in AF.\n",
    "\n",
    "### Statistical Features\n",
    "Simple statistical measures of the ECG signal can also provide valuable information:\n",
    "- **Skewness**: Indicates the asymmetry of the ECG signal distribution. An abnormal skewness could suggest alterations in the ECG waveform.\n",
    "- **Kurtosis**: Measures the 'tailedness' of the signal distribution. Extreme values might indicate anomalies in the ECG waveform.\n",
    "\n",
    "### Heart Rate Variability (HRV) Features:\n",
    "\n",
    "HRV measures the variation in time intervals between heartbeats and is critical for cardiac health analysis. \n",
    "\n",
    "- MeanNN/SDNN: The mean and standard deviation of NN intervals (normal-to-normal, which are intervals between adjacent QRS complexes).\n",
    "- RMSSD: The root mean square of successive differences between normal heartbeats.\n",
    "- pNN50: The percentage of successive NN intervals that differ by more than 50 ms."
   ]
  },
  {
   "cell_type": "code",
   "execution_count": 18,
   "metadata": {},
   "outputs": [],
   "source": [
    "import neurokit2 as nk\n",
    "import numpy as np\n",
    "import pandas as pd\n",
    "import matplotlib.pyplot as plt\n",
    "\n",
    "from tqdm import tqdm\n"
   ]
  },
  {
   "cell_type": "code",
   "execution_count": 19,
   "metadata": {},
   "outputs": [
    {
     "name": "stderr",
     "output_type": "stream",
     "text": [
      "  0%|          | 0/8528 [00:00<?, ?it/s]"
     ]
    },
    {
     "name": "stderr",
     "output_type": "stream",
     "text": [
      "100%|██████████| 8528/8528 [00:00<00:00, 491589.35it/s]\n"
     ]
    }
   ],
   "source": [
    "from src.data.load_data import load_dataset, load_ecg, parse_header\n",
    "from src.ecg.viz import plot_ecg\n",
    "from src.config import TRAINING_DIR\n",
    "\n",
    "dataset = load_dataset(TRAINING_DIR)"
   ]
  },
  {
   "cell_type": "code",
   "execution_count": 40,
   "metadata": {},
   "outputs": [
    {
     "name": "stderr",
     "output_type": "stream",
     "text": [
      "Preprocessing ECG signals:   0%|          | 0/8528 [00:00<?, ?it/s]"
     ]
    },
    {
     "name": "stderr",
     "output_type": "stream",
     "text": [
      "Preprocessing ECG signals: 100%|██████████| 8528/8528 [00:13<00:00, 640.14it/s]\n"
     ]
    }
   ],
   "source": [
    "from src.preprocessing.ecg_preprocessing import ECGPreprocessor\n",
    "\n",
    "ecg_preprocessor = ECGPreprocessor(window_size=5000, overlap_size=1000)\n",
    "processed_dataset = ecg_preprocessor.transform(dataset)                                                                                                                                 "
   ]
  },
  {
   "cell_type": "code",
   "execution_count": 45,
   "metadata": {},
   "outputs": [],
   "source": [
    "import numpy as np\n",
    "import scipy.signal as sig\n",
    "from scipy import stats\n",
    "\n",
    "def extract_features(ecg_signal, fs):\n",
    "    # ECG processing to find R-peaks and segment the signal\n",
    "    _, info = nk.ecg_process(ecg_signal, sampling_rate=fs)\n",
    "    \n",
    "    # hrv features\n",
    "    hrv_features = nk.hrv_time(info['ECG_R_Peaks'], sampling_rate=fs)\n",
    "    hrv_features = hrv_features.to_dict('records')[0]\n",
    "    \n",
    "    # R-R Interval features\n",
    "    rri = np.diff(info['ECG_R_Peaks']) / fs * 1000 # convert to ms\n",
    "    rr_features = {\n",
    "        'RR_mean': np.mean(rri),\n",
    "        'RR_std': np.std(rri),\n",
    "        'Irregularity_index': np.sum(np.abs(np.diff(rri)) > 50) / len(rri)\n",
    "    }\n",
    "    \n",
    "    # Frequency Domain Features\n",
    "    f, Pxx = sig.welch(ecg_signal, fs=fs)\n",
    "    lf = np.trapz(Pxx[(f >= 0.04) & (f <= 0.15)])  # Low frequency power\n",
    "    hf = np.trapz(Pxx[(f >= 0.15) & (f <= 0.4)])   # High frequency power\n",
    "    freq_features = {\n",
    "        'LF': lf,\n",
    "        'HF': hf,\n",
    "        'LF_HF_ratio': lf / hf if hf > 1e-10 else np.nan\n",
    "    }\n",
    "\n",
    "    # Statistical Features\n",
    "    stat_features = {\n",
    "        'Skewness': stats.skew(ecg_signal),\n",
    "        'Kurtosis': stats.kurtosis(ecg_signal)\n",
    "    }\n",
    "\n",
    "    # Combine all features\n",
    "    features = {\n",
    "        **hrv_features,\n",
    "        **rr_features,\n",
    "        **freq_features,\n",
    "        **stat_features\n",
    "    }\n",
    "    \n",
    "    return features"
   ]
  },
  {
   "cell_type": "code",
   "execution_count": 46,
   "metadata": {},
   "outputs": [],
   "source": [
    "def build_features(dataset):\n",
    "    features = []\n",
    "\n",
    "    for data_dict in tqdm(dataset, desc='Extracting features', total=len(dataset)):\n",
    "        ecg_signal = data_dict['ecg_signal']\n",
    "        patient_id = data_dict['patient_id']\n",
    "        label = data_dict['label']\n",
    "        \n",
    "        header = parse_header(data_dict['hea_file'])\n",
    "        sampling_rate = header['sample_rate']\n",
    "        \n",
    "        try:\n",
    "            feature_dict = extract_features(ecg_signal, sampling_rate)\n",
    "            feature_dict['label'] = label\n",
    "            features.append(feature_dict)\n",
    "        except ValueError as e:\n",
    "            if str(e) == \"NeuroKit error: the window cannot contain more data points than the time series. Decrease 'scale'.\":\n",
    "                continue\n",
    "            if str(e) == \"cannot convert float NaN to integer\":\n",
    "                continue\n",
    "            else:\n",
    "                plt.plot(ecg_signal)\n",
    "                plt.title(f'Patient {patient_id} ECG {label}')\n",
    "                plt.show()\n",
    "                raise\n",
    "        except ZeroDivisionError as e:\n",
    "            continue\n",
    "        except Exception as e:\n",
    "            plt.plot(ecg_signal)\n",
    "            plt.title(f'Patient {patient_id} ECG {label}')\n",
    "            plt.show()\n",
    "            raise\n",
    "    \n",
    "    return pd.DataFrame(features)"
   ]
  },
  {
   "cell_type": "code",
   "execution_count": 48,
   "metadata": {},
   "outputs": [
    {
     "name": "stderr",
     "output_type": "stream",
     "text": [
      "Extracting features:   0%|          | 0/100 [00:00<?, ?it/s]"
     ]
    },
    {
     "name": "stderr",
     "output_type": "stream",
     "text": [
      "Extracting features: 100%|██████████| 100/100 [00:08<00:00, 12.18it/s]\n"
     ]
    }
   ],
   "source": [
    "features_df = build_features(processed_dataset[:100])"
   ]
  },
  {
   "cell_type": "code",
   "execution_count": 53,
   "metadata": {},
   "outputs": [
    {
     "data": {
      "text/plain": [
       "HRV_MeanNN            0\n",
       "HRV_SDNN              0\n",
       "HRV_RMSSD             0\n",
       "HRV_SDSD              0\n",
       "HRV_CVNN              0\n",
       "HRV_CVSD              0\n",
       "HRV_MedianNN          0\n",
       "HRV_MadNN             0\n",
       "HRV_MCVNN             0\n",
       "HRV_IQRNN             0\n",
       "HRV_SDRMSSD           0\n",
       "HRV_Prc20NN           0\n",
       "HRV_Prc80NN           0\n",
       "HRV_pNN50             0\n",
       "HRV_pNN20             0\n",
       "HRV_MinNN             0\n",
       "HRV_MaxNN             0\n",
       "HRV_HTI               0\n",
       "HRV_TINN              0\n",
       "RR_mean               0\n",
       "RR_std                0\n",
       "Irregularity_index    0\n",
       "Skewness              0\n",
       "Kurtosis              0\n",
       "label                 0\n",
       "dtype: int64"
      ]
     },
     "execution_count": 53,
     "metadata": {},
     "output_type": "execute_result"
    }
   ],
   "source": [
    "features_df.isna().sum()"
   ]
  },
  {
   "cell_type": "code",
   "execution_count": 63,
   "metadata": {},
   "outputs": [],
   "source": [
    "# Transformer class to extract features from ECG signals\n",
    "import numpy as np\n",
    "import scipy.signal as sig\n",
    "from scipy import stats\n",
    "import neurokit2 as nk\n",
    "from sklearn.base import BaseEstimator, TransformerMixin\n",
    "\n",
    "\n",
    "class ECGFeatureExtractor(BaseEstimator, TransformerMixin):\n",
    "    def __init__(self):\n",
    "        pass\n",
    "    \n",
    "    def fit(self, X, y=None):\n",
    "        return self\n",
    "    \n",
    "    def transform(self, X):\n",
    "        return self.build_features(X)\n",
    "    \n",
    "    def fit_transform(self, X, y=None):\n",
    "        return self.build_features(X)\n",
    "    \n",
    "    @staticmethod\n",
    "    def build_features(dataset):\n",
    "        features = []\n",
    "\n",
    "        for data_dict in tqdm(dataset, desc='Extracting features', total=len(dataset)):\n",
    "            ecg_signal = data_dict['ecg_signal']\n",
    "            patient_id = data_dict['patient_id']\n",
    "            label = data_dict['label']\n",
    "            \n",
    "            header = parse_header(data_dict['hea_file'])\n",
    "            sampling_rate = header['sample_rate']\n",
    "            \n",
    "            try:\n",
    "                feature_dict = extract_features(ecg_signal, sampling_rate)\n",
    "                feature_dict['label'] = label\n",
    "                features.append(feature_dict)\n",
    "            except ValueError as e:\n",
    "                if str(e) == \"NeuroKit error: the window cannot contain more data points than the time series. Decrease 'scale'.\":\n",
    "                    continue\n",
    "                if str(e) == \"cannot convert float NaN to integer\":\n",
    "                    continue\n",
    "                else:\n",
    "                    plt.plot(ecg_signal)\n",
    "                    plt.title(f'Patient {patient_id} ECG {label}')\n",
    "                    plt.show()\n",
    "                    raise\n",
    "            except ZeroDivisionError as e:\n",
    "                continue\n",
    "            except Exception as e:\n",
    "                plt.plot(ecg_signal)\n",
    "                plt.title(f'Patient {patient_id} ECG {label}')\n",
    "                plt.show()\n",
    "                raise\n",
    "        \n",
    "        feature_df = pd.DataFrame(features)\n",
    "        features_df.drop(columns=['HRV_SDANN1', 'HRV_SDNNI1', 'HRV_SDANN2', 'HRV_SDNNI2', 'HRV_SDANN5', 'HRV_SDNNI5', 'LF', 'HF', 'LF_HF_ratio'], inplace=True)\n",
    "        \n",
    "        return feature_df\n",
    "    \n",
    "    @staticmethod\n",
    "    def extract_features(ecg_signal, fs):\n",
    "        # ECG processing to find R-peaks and segment the signal\n",
    "        _, info = nk.ecg_process(ecg_signal, sampling_rate=fs)\n",
    "        \n",
    "        # hrv features\n",
    "        hrv_features = nk.hrv_time(info['ECG_R_Peaks'], sampling_rate=fs)\n",
    "        hrv_features = hrv_features.to_dict('records')[0]\n",
    "        \n",
    "        # R-R Interval features\n",
    "        rri = np.diff(info['ECG_R_Peaks']) / fs * 1000 # convert to ms\n",
    "        rr_features = {\n",
    "            'RR_mean': np.mean(rri),\n",
    "            'RR_std': np.std(rri),\n",
    "            'Irregularity_index': np.sum(np.abs(np.diff(rri)) > 50) / len(rri)\n",
    "        }\n",
    "        \n",
    "        # Frequency Domain Features\n",
    "        f, Pxx = sig.welch(ecg_signal, fs=fs)\n",
    "        lf = np.trapz(Pxx[(f >= 0.04) & (f <= 0.15)])  # Low frequency power\n",
    "        hf = np.trapz(Pxx[(f >= 0.15) & (f <= 0.4)])   # High frequency power\n",
    "        freq_features = {\n",
    "            'LF': lf,\n",
    "            'HF': hf,\n",
    "            'LF_HF_ratio': lf / hf if hf > 1e-10 else np.nan\n",
    "        }\n",
    "\n",
    "        # Statistical Features\n",
    "        stat_features = {\n",
    "            'Skewness': stats.skew(ecg_signal),\n",
    "            'Kurtosis': stats.kurtosis(ecg_signal)\n",
    "        }\n",
    "\n",
    "        # Combine all features\n",
    "        features = {\n",
    "            **hrv_features,\n",
    "            **rr_features,\n",
    "            **freq_features,\n",
    "            **stat_features\n",
    "        }\n",
    "        \n",
    "        return features"
   ]
  },
  {
   "cell_type": "code",
   "execution_count": 58,
   "metadata": {},
   "outputs": [
    {
     "name": "stderr",
     "output_type": "stream",
     "text": [
      "Preprocessing ECG signals:   0%|          | 0/8528 [00:00<?, ?it/s]"
     ]
    },
    {
     "name": "stderr",
     "output_type": "stream",
     "text": [
      "Preprocessing ECG signals: 100%|██████████| 8528/8528 [00:13<00:00, 628.79it/s]\n",
      "Extracting features: 100%|██████████| 17613/17613 [23:44<00:00, 12.37it/s]\n"
     ]
    }
   ],
   "source": [
    "from sklearn.pipeline import Pipeline\n",
    "from src.preprocessing.ecg_preprocessing import ECGPreprocessor\n",
    "\n",
    "                                     \n",
    "pipeline = Pipeline([\n",
    "    ('preprocess', ECGPreprocessor(window_size=5000, overlap_size=1000)),\n",
    "    ('extract_features', ECGFeatureExtractor())\n",
    "])\n",
    "\n",
    "features_df = pipeline.fit_transform(dataset)                                                                                "
   ]
  },
  {
   "cell_type": "code",
   "execution_count": null,
   "metadata": {},
   "outputs": [],
   "source": []
  }
 ],
 "metadata": {
  "kernelspec": {
   "display_name": "ecg_proj_env",
   "language": "python",
   "name": "python3"
  },
  "language_info": {
   "codemirror_mode": {
    "name": "ipython",
    "version": 3
   },
   "file_extension": ".py",
   "mimetype": "text/x-python",
   "name": "python",
   "nbconvert_exporter": "python",
   "pygments_lexer": "ipython3",
   "version": "3.9.13"
  }
 },
 "nbformat": 4,
 "nbformat_minor": 2
}
